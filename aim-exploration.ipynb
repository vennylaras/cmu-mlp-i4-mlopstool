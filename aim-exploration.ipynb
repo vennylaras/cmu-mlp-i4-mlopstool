{
 "cells": [
  {
   "cell_type": "code",
   "execution_count": 17,
   "id": "6fc74edd",
   "metadata": {},
   "outputs": [],
   "source": [
    "import json\n",
    "import pandas as pd\n",
    "import numpy as np\n",
    "from tqdm import tqdm\n",
    "from aim import Run"
   ]
  },
  {
   "cell_type": "code",
   "execution_count": 20,
   "id": "5a0f1741",
   "metadata": {},
   "outputs": [],
   "source": [
    "from surprise import BaselineOnly, Dataset, Reader\n",
    "from surprise.model_selection import cross_validate\n",
    "from surprise import accuracy, Dataset\n",
    "from surprise.model_selection import train_test_split\n",
    "from surprise.prediction_algorithms.matrix_factorization import SVD, SVDpp, NMF\n",
    "from surprise.prediction_algorithms.knns import KNNBasic, KNNWithMeans, KNNWithZScore, KNNBaseline"
   ]
  },
  {
   "cell_type": "code",
   "execution_count": 66,
   "id": "0dbe6a60",
   "metadata": {},
   "outputs": [],
   "source": [
    "reader = Reader(line_format=\"user item rating timestamp\", sep=\"\\t\")\n",
    "data = Dataset.load_from_file(\"data/u.data\", reader=reader)\n",
    "trainset, testset = train_test_split(data, test_size=0.2)"
   ]
  },
  {
   "cell_type": "markdown",
   "id": "1d92bf40",
   "metadata": {},
   "source": [
    "## NMF"
   ]
  },
  {
   "cell_type": "code",
   "execution_count": 55,
   "id": "3607147a",
   "metadata": {},
   "outputs": [],
   "source": [
    "aim_run = Run(\n",
    "    experiment='movie_recs_surprise'\n",
    ")\n",
    "\n",
    "n_factors=25\n",
    "n_epochs=50\n",
    "biased=False\n",
    "reg_pu=0.06\n",
    "reg_qi=0.06\n",
    "reg_bu=0.02\n",
    "reg_bi=0.02\n",
    "lr_bu=0.005\n",
    "lr_bi=0.005\n",
    "\n",
    "# Log run parameters\n",
    "aim_run[\"hparams\"] = {\n",
    "    'algo': 'NMF',\n",
    "    'n_factors': n_factors,\n",
    "    'biased': biased,\n",
    "    'reg_pu': reg_pu,\n",
    "    'reg_qi':reg_qi,\n",
    "    'reg_bu': reg_bu,\n",
    "    'reg_bi': reg_bi,\n",
    "    'lr_bu': lr_bu,\n",
    "    'lr_bi': lr_bi\n",
    "}"
   ]
  },
  {
   "cell_type": "code",
   "execution_count": 56,
   "id": "a31c02f1",
   "metadata": {},
   "outputs": [
    {
     "name": "stderr",
     "output_type": "stream",
     "text": [
      "100%|███████████████████████████████████████████████████████████████████████████████████████████████████| 50/50 [01:54<00:00,  2.28s/it]\n"
     ]
    }
   ],
   "source": [
    "for epoch in tqdm(range(n_epochs)):\n",
    "    algo = NMF(n_factors=n_factors, \n",
    "               n_epochs=epoch, \n",
    "               biased=biased, \n",
    "               reg_pu=reg_pu, \n",
    "               reg_qi=reg_qi, \n",
    "               reg_bu=reg_bu, \n",
    "               reg_bi=reg_bi, \n",
    "               lr_bu=lr_bu, \n",
    "               lr_bi=lr_bi, \n",
    "               random_state=None, \n",
    "               verbose=False)\n",
    "    algo.fit(trainset)\n",
    "    predictions = algo.test(testset)\n",
    "\n",
    "    rmse = accuracy.rmse(predictions, verbose=False)\n",
    "    fcp = accuracy.fcp(predictions, verbose=False)\n",
    "\n",
    "    aim_run.track({'rmse': rmse, 'fcp': fcp}, context={'subset': 'test'}, epoch=epoch)"
   ]
  },
  {
   "cell_type": "markdown",
   "id": "59250732",
   "metadata": {},
   "source": [
    "## SVD"
   ]
  },
  {
   "cell_type": "code",
   "execution_count": 63,
   "id": "f007e62a",
   "metadata": {},
   "outputs": [],
   "source": [
    "n_factors=150\n",
    "n_epochs=50 \n",
    "biased=True\n",
    "init_mean=0\n",
    "init_std_dev=0.1\n",
    "lr_all=0.005\n",
    "reg_all=0.02\n",
    "lr_bu=None\n",
    "lr_bi=None\n",
    "lr_pu=None\n",
    "lr_qi=None\n",
    "reg_bu=None\n",
    "reg_bi=None\n",
    "reg_pu=None\n",
    "reg_qi=None\n",
    "\n",
    "aim_run = Run(\n",
    "    experiment='movie_recs_surprise'\n",
    ")\n",
    "\n",
    "aim_run[\"hparams\"] = {\n",
    "    'algo': 'SVD',\n",
    "    'n_factors': n_factors,\n",
    "    'biased': biased,\n",
    "    'init_mean': init_mean,\n",
    "    'init_std_dev': init_std_dev,\n",
    "    'lr_all': lr_all,\n",
    "    'reg_all': reg_all,\n",
    "    'lr_bu': lr_bu,\n",
    "    'lr_bi': lr_bi,\n",
    "    'lr_pu': lr_pu,\n",
    "    'lr_qi': lr_qi,\n",
    "    'reg_bu': reg_bu,\n",
    "    'reg_bi': reg_bi,\n",
    "    'reg_pu': reg_pu,\n",
    "    'reg_qi': reg_qi\n",
    "}"
   ]
  },
  {
   "cell_type": "code",
   "execution_count": 64,
   "id": "6e7f4f42",
   "metadata": {},
   "outputs": [
    {
     "name": "stderr",
     "output_type": "stream",
     "text": [
      "100%|███████████████████████████████████████████████████████████████████████████████████████████████████| 50/50 [06:00<00:00,  7.21s/it]\n"
     ]
    }
   ],
   "source": [
    "for epoch in tqdm(range(n_epochs)):\n",
    "    algo = SVD(n_factors=n_factors, \n",
    "               n_epochs=epoch, \n",
    "               biased=biased, \n",
    "               init_mean=init_mean,\n",
    "               init_std_dev=init_std_dev,\n",
    "               lr_all=lr_all,\n",
    "               reg_all=reg_all,\n",
    "               lr_bu=lr_bu,\n",
    "               lr_bi=lr_bi,\n",
    "               lr_pu=lr_pu,\n",
    "               lr_qi=lr_qi,\n",
    "               reg_bu=reg_bu,\n",
    "               reg_bi=reg_bi,\n",
    "               reg_pu=reg_pu,\n",
    "               reg_qi=reg_qi,\n",
    "               random_state=None, \n",
    "               verbose=False)\n",
    "    algo.fit(trainset)\n",
    "    predictions = algo.test(testset)\n",
    "\n",
    "    rmse = accuracy.rmse(predictions, verbose=False)\n",
    "    fcp = accuracy.fcp(predictions, verbose=False)\n",
    "\n",
    "    aim_run.track({'rmse': rmse, 'fcp': fcp}, context={'subset': 'test'}, epoch=epoch)"
   ]
  },
  {
   "cell_type": "code",
   "execution_count": null,
   "id": "17d78825",
   "metadata": {},
   "outputs": [],
   "source": []
  }
 ],
 "metadata": {
  "kernelspec": {
   "display_name": "Python 3 (ipykernel)",
   "language": "python",
   "name": "python3"
  },
  "language_info": {
   "codemirror_mode": {
    "name": "ipython",
    "version": 3
   },
   "file_extension": ".py",
   "mimetype": "text/x-python",
   "name": "python",
   "nbconvert_exporter": "python",
   "pygments_lexer": "ipython3",
   "version": "3.8.8"
  }
 },
 "nbformat": 4,
 "nbformat_minor": 5
}
